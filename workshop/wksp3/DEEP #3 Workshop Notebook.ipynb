{
 "cells": [
  {
   "cell_type": "markdown",
   "metadata": {},
   "source": [
    "# Data Visualization\n",
    "\n",
    "The goal of this workshop is to understand how to import a new dataset, gain simple insights from the dataset, and clean + prepare the dataset\n",
    "\n",
    "## Content\n",
    "\n",
    "1. Understand Structure of Matplotlib Code\n",
    "2. Types of Charts\n",
    "- Bar Charts\n",
    "- Line Charts\n",
    "- Heat Maps\n",
    "3. Types of Formatting\n",
    "- Title/Axis Labels\n",
    "- Axis Limits\n",
    "- Colors\n",
    "- Legends"
   ]
  },
  {
   "cell_type": "markdown",
   "metadata": {},
   "source": [
    "# Section 0: Import Libraries\n",
    "Recall from our last workshop in python libraries are read in like this:\n",
    "```\n",
    "import library_name as some_abbreviation\n",
    "```"
   ]
  },
  {
   "cell_type": "markdown",
   "metadata": {},
   "source": [
    "### Q0 Import pandas and matplotlib"
   ]
  },
  {
   "cell_type": "code",
   "execution_count": null,
   "metadata": {},
   "outputs": [],
   "source": [
    "import numpy as np\n",
    "import pandas as pd\n",
    "import matplotlib.pyplot as plt #main plotting library\n",
    "import seaborn as sns #prettier plotting library, based on matplotlib"
   ]
  },
  {
   "cell_type": "markdown",
   "metadata": {},
   "source": [
    "### Q0.1 Import \"space_titanic_clean.csv\""
   ]
  },
  {
   "cell_type": "code",
   "execution_count": 4,
   "metadata": {},
   "outputs": [],
   "source": [
    "df = pd.read_csv(\"./space_titanic_clean.csv\")"
   ]
  },
  {
   "cell_type": "markdown",
   "metadata": {},
   "source": [
    "# Section 1: Understand Structure of Matplotlib Code\n",
    "\n",
    "Before we start plotting, let's first understand the general structure of a block of Matplotlib code\n",
    "\n",
    "First, we always start by initializing our figure. The figure is sort of the \"canvas\" that our plot(s) will be drawn on. Typically the only parameters we pass into the figure is the `figsize`, which is a tuple, `(x, y)` where `x` is the width and `y` is the height (both in inches)\n",
    "\n",
    "```\n",
    "f = plt.figure(figsize=(x, y))\n",
    "```\n",
    "\n",
    "Next, we move to the actual drawing of our plot. This will vary depending on what type of plot we are plotting. \n",
    "```\n",
    "some plot\n",
    "```\n",
    "After drawing, we need to add a few more things to make our plot more interpretable. While these may seem tedious, these are just best practices when it comes to creating plots for others to view. \n",
    "\n",
    "First, it's important to set our axis labels and title. We can do this by calling the `xlabel`, `ylabel` and `title` functions. \n",
    "```\n",
    "plt.xlabel(\"X units\")\n",
    "plt.ylabel(\"Y units\")\n",
    "plt.title(\"Plot of Y vs. X\")\n",
    "```\n",
    "Lastly, it's important to actually show our plot. We can accomplish this by using the `.show()` function.\n",
    "```\n",
    "plt.show()\n",
    "```\n",
    "And there's our plot! We'll get to using these when we learn some plots."
   ]
  },
  {
   "cell_type": "markdown",
   "metadata": {},
   "source": [
    "# Types of Plots\n",
    "\n",
    "There are many different plots, however, each plot serves a different purpose. Certain plots lend themselves more to certain datatypes (categorical, numerical). Different plots also aim to convey different insights (frequency, proportion, correlation, etc.).\n",
    "\n",
    "While it is important to understand the code for creating each plot, prioritize having a *conceptual* understanding of each plot first. We can always find the code through online documentation, but understanding when and where to use certain plots may not always be as intuitive. \n",
    "\n",
    "Let's get into it!\n",
    "\n",
    "## Histogram\n",
    "\n",
    "The histogram is used to analyze the distribution of a single variable. Each bin represents a \"category\" of the data, and the y-value of the bin represents the number of occurrences, or frequency of that category. It's useful to do a quick eye-check for any outliers, mean/median, skewness, etc. \n",
    "\n",
    "To create a histogram, simply access the column of the variable you want to analyze, and call `.hist()`. A typical parameter for the histogram is the `bins`, and this just specifies the number of bins we want in our plot. This value will vary depending on your data and use case. \n",
    "```\n",
    "df[\"columnName\"].hist(bins=X)\n",
    "```\n",
    "\n",
    "## Bar Chart\n",
    "\n",
    "The bar chart is typically used to visualize some categorical (x-axis) variable. While it is similar to the histogram, the bar chart can graph more than just frequency on its y-axis. Let's say you own a grocery store, and you want the total revenues for different categories of foods (fruits, vegetables, meats). A bar chart would be perfect, as the food categories would be different bars on our x-axis, and the heights (y-values) of those bars would be the total revenues. \n",
    "\n",
    "To create a bar chart, simply use the `.bar()` function. As parameters...\n",
    "- `x` refers to the x-axis variable you would like\n",
    "- `height` refers to the y-axis variable\n",
    "- `color` refers to the color of your bars\n",
    "- `width` refers to the width of each bar\n",
    "```\n",
    "plt.bar(x=df[\"categoricalVariable\"], height=numericalVariable, color='red', width=0.8)\n",
    "```"
   ]
  },
  {
   "cell_type": "markdown",
   "metadata": {},
   "source": [
    "### Q1.1 Create a histogram using the `Age` column.\n",
    "- Make sure to initialize your figure, x/y label, and title"
   ]
  },
  {
   "cell_type": "code",
   "execution_count": 1,
   "metadata": {},
   "outputs": [],
   "source": [
    "#type your answer here\n"
   ]
  },
  {
   "cell_type": "markdown",
   "metadata": {},
   "source": [
    "### Q1.2 Create a bar chart to visualize the total amount spent on the FoodCourt based on whether a passenger was Transported or not\n",
    "- Make sure to initialize your figure, x/y label, and title\n",
    "- What is your x variable? What is your y variable? What methods/functions do you have to use to obtain those variables?"
   ]
  },
  {
   "cell_type": "code",
   "execution_count": 3,
   "metadata": {},
   "outputs": [],
   "source": [
    "#type your answer here\n"
   ]
  },
  {
   "cell_type": "markdown",
   "metadata": {},
   "source": [
    "## Line Plot\n",
    "\n",
    "The line plot is typically used to show the relationship between two numerical variables. \n",
    "\n",
    "To create a line plot, simply use the `.plot` function. There are multiple ways to input your parameters, but the most straight forward way may be...\n",
    "```\n",
    "plt.plot('columnName1', 'columnName2', data=df)\n",
    "```\n",
    "This will plot `df['columnName1']` against `df['columnName2']`\n",
    "\n",
    "**Note** Use line plots when each x-value has **one** y-value associated with it. For example, simply plotting `Age` versus `RoomService` won't work since there may be multiple values for `RoomService` associated with certain `Ages`. Plotting the average or total `RoomService` for each age works, since for any given age, there can only be one average or total `RoomService` value. \n",
    "\n",
    "## Scatter Plot\n",
    "\n",
    "The scatter plot is similar to the line plot in that we use it to show the relationship between two numerical variables. However, one important difference is that scatter plots allow for *multiple* y-values associated with any given x-value. Thus, this makes scatter plots more commmonly used and convenient when finding relationships between numerical variables. \n",
    "\n",
    "To create a scatter plot, simply use the `scatter` function. The syntax is very similar to that of the line plot...\n",
    "```\n",
    "plt.scatter('columnName1', 'columnName2', data=df)\n",
    "```\n",
    "This will plot `df['columnName1']` against `df['columnName2']`\n",
    "\n"
   ]
  },
  {
   "cell_type": "markdown",
   "metadata": {},
   "source": [
    "### Q1.3 Create a scatter plot comparing the amounts passengers have spent on the `ShoppingMall` vs. the `Spa`\n",
    "- Make sure to initialize your figure, x/y label, and title"
   ]
  },
  {
   "cell_type": "code",
   "execution_count": 4,
   "metadata": {},
   "outputs": [],
   "source": [
    "#type your answer here"
   ]
  },
  {
   "cell_type": "markdown",
   "metadata": {},
   "source": [
    "### Q1.4 Create a line plot comparing the `Age` of the passenger, and their average spending on the `VRDeck`\n",
    "- Make sure to initialize your figure, x/y label, and title\n",
    "- What is your x variable? What is your y variable? What methods/functions can you use to help obtain those?"
   ]
  },
  {
   "cell_type": "code",
   "execution_count": 5,
   "metadata": {},
   "outputs": [],
   "source": [
    "#type your answer here"
   ]
  },
  {
   "cell_type": "markdown",
   "metadata": {},
   "source": [
    "## Pie Chart\n",
    "\n",
    "The pie chart is typically used to show proportions of categorical variables. What are the proportions of each of the home planets in our dataset?\n",
    "\n",
    "To create a pie chart, use the `pie` function. The parameters are...\n",
    "- `x`, these are the proportion values\n",
    "- `labels`, these are the labels (or values within our categorical variable) associated with each proportion\n",
    "```\n",
    "plt.pie(x=proportions, labels=categoricalValues)\n",
    "```\n",
    "Like most of the other plotting parameters, both `x` and `labels` are list-like (dataframe columns qualify!) values. `labels[0]` has proportion `x[0]`.\n",
    "\n",
    "## Boxplot\n",
    "\n",
    "The boxplot is really useful for analyzing relationships between a single categorical variable (x-axis) and a single numerical variable (y-axis). \n",
    "\n",
    "To create a boxplot, simply call `boxplot` off of your dataframe. The following parameters...\n",
    "- `by` refers to the categorical variable you are plotting\n",
    "- `column` refers to the numerical variable you are plotting, should put in an array\n",
    "\n",
    "```\n",
    "df.boxplot(by=\"categoricalColumn\", column=[\"numericalColumn\"])\n",
    "```"
   ]
  },
  {
   "cell_type": "markdown",
   "metadata": {},
   "source": [
    "### Q1.5 Create a pie chart for the proportion of different destinations"
   ]
  },
  {
   "cell_type": "code",
   "execution_count": 6,
   "metadata": {},
   "outputs": [],
   "source": [
    "#type your answer here\n"
   ]
  },
  {
   "cell_type": "markdown",
   "metadata": {},
   "source": [
    "### Q1.6 Create a box plot comparing the `Destination` and the spending on the `RoomService`"
   ]
  },
  {
   "cell_type": "code",
   "execution_count": 7,
   "metadata": {
    "scrolled": true
   },
   "outputs": [],
   "source": [
    "#type your answer here\n"
   ]
  },
  {
   "cell_type": "markdown",
   "metadata": {},
   "source": [
    "# Other Seaborn plots"
   ]
  },
  {
   "cell_type": "markdown",
   "metadata": {},
   "source": [
    "## Pairplot\n",
    "\n",
    "The pairplot is a really good starting plot for visualizing pairwise relationships between *numerical* variables of a dataset. The output is a grid of plots, where the ith and jth plot is the plot between the ith and jth column of the input dataset. \n",
    "\n",
    "To create a pairplot, the easiest way is to use the Seaborn library. We first get the subset of the columns are that are numerical. Then, we simply call `sns.pairplot` from there and pass in our subset.\n",
    "```\n",
    "numerical_df = df.select_dtypes(include=np.number) #get only numerical columns\n",
    "sns.pairplot(numerical_df)\n",
    "```\n",
    "\n",
    "## Heat map\n",
    "\n",
    "The heat map is also a really good starting plot for visualizing correlations between *numerical* variales of a a dataset. The output is a grid of colored squares, where the ith and jth square's color relates to the correlation between the ith and jth variable in the input dataset. \n",
    "\n",
    "To create a heatmap, we could use Seaborn as well. We first, similarly to pairplot, get the subset of columns that are numerical. Then, we call `sns.heatmap` from there and pass in our subset.\n",
    "```\n",
    "numerical_df = df.select_dtypes(include=np.number) #get only numerical columns\n",
    "sns.heatmap(numerical_df)\n",
    "```"
   ]
  },
  {
   "cell_type": "markdown",
   "metadata": {},
   "source": [
    "## That's a wrap!\n",
    "At our next workshop, we'll be moving on to modeling!"
   ]
  }
 ],
 "metadata": {
  "kernelspec": {
   "display_name": "Python 3",
   "language": "python",
   "name": "python3"
  },
  "language_info": {
   "codemirror_mode": {
    "name": "ipython",
    "version": 3
   },
   "file_extension": ".py",
   "mimetype": "text/x-python",
   "name": "python",
   "nbconvert_exporter": "python",
   "pygments_lexer": "ipython3",
   "version": "3.8.13"
  }
 },
 "nbformat": 4,
 "nbformat_minor": 4
}
